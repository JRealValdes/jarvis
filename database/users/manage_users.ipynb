{
 "cells": [
  {
   "cell_type": "markdown",
   "id": "2ec7bfc7",
   "metadata": {},
   "source": [
    "# Manage Users DB"
   ]
  },
  {
   "cell_type": "markdown",
   "id": "3fa27bc6",
   "metadata": {},
   "source": [
    "## Initial Setup"
   ]
  },
  {
   "cell_type": "markdown",
   "id": "43fd6b34",
   "metadata": {},
   "source": [
    "Introduce these required fields:"
   ]
  },
  {
   "cell_type": "code",
   "execution_count": null,
   "id": "c5c6b4c7",
   "metadata": {},
   "outputs": [],
   "source": [
    "username=\"ThisIsMyUsername\"\n",
    "identification=\"ThisIsHowIIdentifyMyself\"\n",
    "jarvis_registered_name=\"ThisIsHowJarvisCallsMe\""
   ]
  },
  {
   "cell_type": "code",
   "execution_count": null,
   "id": "aed0bd0d",
   "metadata": {},
   "outputs": [],
   "source": [
    "import sys\n",
    "import os\n",
    "\n",
    "# Adding project's root folder to sys.path\n",
    "sys.path.append(os.path.abspath(\"../..\"))\n",
    "\n",
    "from database.users.users_db import (\n",
    "    init_db,\n",
    "    insert_user,\n",
    "    find_registered_name_by_prompt,\n",
    "    delete_user_by_username)"
   ]
  },
  {
   "cell_type": "code",
   "execution_count": null,
   "id": "3d0dac13",
   "metadata": {},
   "outputs": [],
   "source": [
    "# Initialize database\n",
    "init_db()"
   ]
  },
  {
   "cell_type": "markdown",
   "id": "12d2bd45",
   "metadata": {},
   "source": [
    "## Adding user to the DB"
   ]
  },
  {
   "cell_type": "code",
   "execution_count": null,
   "id": "1247b827",
   "metadata": {},
   "outputs": [],
   "source": [
    "insert_user(\n",
    "    username=username,\n",
    "    identification=identification,\n",
    "    jarvis_registered_name=jarvis_registered_name\n",
    ")"
   ]
  },
  {
   "cell_type": "markdown",
   "id": "4ccae538",
   "metadata": {},
   "source": [
    "### Testing user is correctly added"
   ]
  },
  {
   "cell_type": "code",
   "execution_count": null,
   "id": "429a1169",
   "metadata": {},
   "outputs": [],
   "source": [
    "prompt = f\"Hola, soy {identification}, quiero hablar contigo\"\n",
    "name = find_registered_name_by_prompt(prompt=prompt)\n",
    "print(name) # Expected output: ThisIsHowJarvisCallsMe"
   ]
  },
  {
   "cell_type": "markdown",
   "id": "a1a149a2",
   "metadata": {},
   "source": [
    "## Deleting user by username"
   ]
  },
  {
   "cell_type": "code",
   "execution_count": null,
   "id": "ab1efbeb",
   "metadata": {},
   "outputs": [],
   "source": [
    "# Clean up the database by removing the user\n",
    "delete_user_by_username(username=username)"
   ]
  },
  {
   "cell_type": "code",
   "execution_count": null,
   "id": "a0663a63",
   "metadata": {},
   "outputs": [],
   "source": []
  }
 ],
 "metadata": {
  "kernelspec": {
   "display_name": "jarvis-env",
   "language": "python",
   "name": "python3"
  },
  "language_info": {
   "codemirror_mode": {
    "name": "ipython",
    "version": 3
   },
   "file_extension": ".py",
   "mimetype": "text/x-python",
   "name": "python",
   "nbconvert_exporter": "python",
   "pygments_lexer": "ipython3",
   "version": "3.11.8"
  }
 },
 "nbformat": 4,
 "nbformat_minor": 5
}

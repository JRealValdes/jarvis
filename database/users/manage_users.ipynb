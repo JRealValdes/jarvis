{
 "cells": [
  {
   "cell_type": "markdown",
   "id": "2ec7bfc7",
   "metadata": {},
   "source": [
    "# Manage Users DB"
   ]
  },
  {
   "cell_type": "markdown",
   "id": "3fa27bc6",
   "metadata": {},
   "source": [
    "## Initial Setup"
   ]
  },
  {
   "cell_type": "markdown",
   "id": "43fd6b34",
   "metadata": {},
   "source": [
    "Introduce these required fields:"
   ]
  },
  {
   "cell_type": "code",
   "execution_count": null,
   "id": "982896cb",
   "metadata": {},
   "outputs": [],
   "source": [
    "real_name = \"MyRealName\"\n",
    "access_name = \"MyAccessName\"  # Identification for Jarvis to recognize the user\n",
    "jarvis_name = \"MyJarvisName\" # Jarvis's name for the user\"\n",
    "is_female = True # If the user identifies as a woman\n",
    "admin = bool = False # If the user has admin privileges"
   ]
  },
  {
   "cell_type": "code",
   "execution_count": null,
   "id": "aed0bd0d",
   "metadata": {},
   "outputs": [],
   "source": [
    "import sys\n",
    "import os\n",
    "\n",
    "# Adding project's root folder to sys.path\n",
    "sys.path.append(os.path.abspath(\"../..\"))\n",
    "\n",
    "from database.users.users_db import (\n",
    "    init_db,\n",
    "    insert_user,\n",
    "    delete_user_by_field,\n",
    "    get_user_by_field,\n",
    "    find_user_by_prompt\n",
    "    )"
   ]
  },
  {
   "cell_type": "code",
   "execution_count": null,
   "id": "3d0dac13",
   "metadata": {},
   "outputs": [],
   "source": [
    "# Initialize database - Execute if DB does not exist yet\n",
    "init_db()"
   ]
  },
  {
   "cell_type": "markdown",
   "id": "12d2bd45",
   "metadata": {},
   "source": [
    "## Adding user to the DB"
   ]
  },
  {
   "cell_type": "code",
   "execution_count": null,
   "id": "1247b827",
   "metadata": {},
   "outputs": [],
   "source": [
    "insert_user(\n",
    "    real_name=real_name,\n",
    "    access_name=access_name,\n",
    "    jarvis_name=jarvis_name,\n",
    "    is_female=is_female,\n",
    "    admin=admin\n",
    ")"
   ]
  },
  {
   "cell_type": "markdown",
   "id": "4ccae538",
   "metadata": {},
   "source": [
    "### Testing user is correctly added"
   ]
  },
  {
   "cell_type": "code",
   "execution_count": null,
   "id": "dcf0b901",
   "metadata": {},
   "outputs": [],
   "source": [
    "get_user_by_field(\n",
    "    field=\"access_name\",\n",
    "    value=access_name,\n",
    "    is_sensitive=True\n",
    ")"
   ]
  },
  {
   "cell_type": "code",
   "execution_count": null,
   "id": "429a1169",
   "metadata": {},
   "outputs": [],
   "source": [
    "prompt = f\"Hola, soy {access_name}, quiero hablar contigo\"\n",
    "name = find_user_by_prompt(prompt=prompt)[\"jarvis_name\"]\n",
    "print(name) # Expected output: MyJarvisName"
   ]
  },
  {
   "cell_type": "markdown",
   "id": "a1a149a2",
   "metadata": {},
   "source": [
    "## Deleting user by username"
   ]
  },
  {
   "cell_type": "code",
   "execution_count": null,
   "id": "ab1efbeb",
   "metadata": {},
   "outputs": [],
   "source": [
    "# Clean up the database by removing the user\n",
    "delete_user_by_field(field=\"access_name\", value=access_name, is_sensitive=True)"
   ]
  },
  {
   "cell_type": "markdown",
   "id": "973cefbc",
   "metadata": {},
   "source": [
    "### Testing user is correctly deleted"
   ]
  },
  {
   "cell_type": "code",
   "execution_count": null,
   "id": "a0663a63",
   "metadata": {},
   "outputs": [],
   "source": [
    "prompt = f\"Hola, soy {access_name}, quiero hablar contigo\"\n",
    "try:\n",
    "    name = find_user_by_prompt(prompt=prompt)[\"jarvis_name\"]\n",
    "except TypeError:\n",
    "    print(\"User not found\")  # Expected output: User not found"
   ]
  },
  {
   "cell_type": "code",
   "execution_count": null,
   "id": "cb5b486d",
   "metadata": {},
   "outputs": [],
   "source": []
  }
 ],
 "metadata": {
  "kernelspec": {
   "display_name": "jarvis-env",
   "language": "python",
   "name": "python3"
  },
  "language_info": {
   "codemirror_mode": {
    "name": "ipython",
    "version": 3
   },
   "file_extension": ".py",
   "mimetype": "text/x-python",
   "name": "python",
   "nbconvert_exporter": "python",
   "pygments_lexer": "ipython3",
   "version": "3.11.8"
  }
 },
 "nbformat": 4,
 "nbformat_minor": 5
}

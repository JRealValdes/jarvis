{
 "cells": [
  {
   "cell_type": "markdown",
   "id": "94256da8",
   "metadata": {},
   "source": [
    "# Generate a Symmetric Cryptography Key (using Fernet)"
   ]
  },
  {
   "cell_type": "code",
   "execution_count": null,
   "id": "1cfb7e74",
   "metadata": {},
   "outputs": [],
   "source": [
    "from cryptography.fernet import Fernet"
   ]
  },
  {
   "cell_type": "code",
   "execution_count": null,
   "id": "25f30938",
   "metadata": {},
   "outputs": [],
   "source": [
    "key = Fernet.generate_key()\n",
    "print(key.decode())  # Save this in your .env as FERNET_KEY"
   ]
  },
  {
   "cell_type": "code",
   "execution_count": null,
   "id": "1988582b",
   "metadata": {},
   "outputs": [],
   "source": []
  }
 ],
 "metadata": {
  "kernelspec": {
   "display_name": "jarvis-env",
   "language": "python",
   "name": "python3"
  },
  "language_info": {
   "codemirror_mode": {
    "name": "ipython",
    "version": 3
   },
   "file_extension": ".py",
   "mimetype": "text/x-python",
   "name": "python",
   "nbconvert_exporter": "python",
   "pygments_lexer": "ipython3",
   "version": "3.11.8"
  }
 },
 "nbformat": 4,
 "nbformat_minor": 5
}

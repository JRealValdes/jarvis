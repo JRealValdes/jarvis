{
 "cells": [
  {
   "cell_type": "markdown",
   "id": "2ec7bfc7",
   "metadata": {},
   "source": [
    "# Users DB Playground"
   ]
  },
  {
   "cell_type": "code",
   "execution_count": null,
   "id": "aed0bd0d",
   "metadata": {},
   "outputs": [],
   "source": [
    "import sys\n",
    "import os\n",
    "\n",
    "# Adding project's root folder to sys.path\n",
    "sys.path.append(os.path.abspath(\"..\"))"
   ]
  },
  {
   "cell_type": "code",
   "execution_count": null,
   "id": "375076da",
   "metadata": {},
   "outputs": [],
   "source": [
    "from db.users_db import init_db, insert_user, find_registered_name_by_identification"
   ]
  },
  {
   "cell_type": "code",
   "execution_count": null,
   "id": "1247b827",
   "metadata": {},
   "outputs": [],
   "source": [
    "# Initialize database\n",
    "init_db()\n",
    "\n",
    "# Insert user\n",
    "insert_user(\n",
    "    username=\"ThisIsMyUsername\",\n",
    "    identification=\"ThisIsHowIIdentifyMyself\",\n",
    "    jarvis_registered_name=\"ThisIsHowJarvisCallsMe\",\n",
    ")"
   ]
  },
  {
   "cell_type": "code",
   "execution_count": null,
   "id": "429a1169",
   "metadata": {},
   "outputs": [],
   "source": [
    "prompt = \"Hola, Soy ThisIsHowIIdentifyMyself, quiero hablar contigo\"\n",
    "name = find_registered_name_by_identification(user_input=prompt)\n",
    "print(name) # Expected output: ThisIsHowJarvisCallsMe"
   ]
  },
  {
   "cell_type": "code",
   "execution_count": null,
   "id": "ab1efbeb",
   "metadata": {},
   "outputs": [],
   "source": []
  }
 ],
 "metadata": {
  "kernelspec": {
   "display_name": "jarvis-env",
   "language": "python",
   "name": "python3"
  },
  "language_info": {
   "codemirror_mode": {
    "name": "ipython",
    "version": 3
   },
   "file_extension": ".py",
   "mimetype": "text/x-python",
   "name": "python",
   "nbconvert_exporter": "python",
   "pygments_lexer": "ipython3",
   "version": "3.11.8"
  }
 },
 "nbformat": 4,
 "nbformat_minor": 5
}

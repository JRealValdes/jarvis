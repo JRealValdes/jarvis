{
 "cells": [
  {
   "cell_type": "markdown",
   "id": "6a1bb22e",
   "metadata": {},
   "source": [
    "# Google API Demo"
   ]
  },
  {
   "cell_type": "code",
   "execution_count": null,
   "id": "cc8ceb69",
   "metadata": {},
   "outputs": [],
   "source": [
    "import sys\n",
    "import os\n",
    "sys.path.append(os.path.abspath(os.path.join('..')))\n",
    "\n",
    "from api.google_api.jarvis_google_authentication import get_authentications_for_user"
   ]
  },
  {
   "cell_type": "markdown",
   "id": "5ae6a992",
   "metadata": {},
   "source": [
    "## Getting authentication tokens for user"
   ]
  },
  {
   "cell_type": "code",
   "execution_count": null,
   "id": "1f19e455",
   "metadata": {},
   "outputs": [],
   "source": [
    "username = \"javi\"\n",
    "get_authentications_for_user(username=username, allow_logging_popup=False)"
   ]
  },
  {
   "cell_type": "code",
   "execution_count": null,
   "id": "c189dbd9",
   "metadata": {},
   "outputs": [],
   "source": []
  }
 ],
 "metadata": {
  "kernelspec": {
   "display_name": ".venv",
   "language": "python",
   "name": "python3"
  },
  "language_info": {
   "codemirror_mode": {
    "name": "ipython",
    "version": 3
   },
   "file_extension": ".py",
   "mimetype": "text/x-python",
   "name": "python",
   "nbconvert_exporter": "python",
   "pygments_lexer": "ipython3",
   "version": "3.11.9"
  }
 },
 "nbformat": 4,
 "nbformat_minor": 5
}
